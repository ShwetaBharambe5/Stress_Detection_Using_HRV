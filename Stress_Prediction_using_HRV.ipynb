{
 "cells": [
  {
   "cell_type": "code",
   "execution_count": 32,
   "metadata": {},
   "outputs": [],
   "source": [
    "import numpy as np\n",
    "import pandas as pd\n",
    "from sklearn.model_selection import train_test_split\n",
    "import pandas as pd\n",
    "import seaborn as sns\n",
    "from sklearn.metrics import classification_report,confusion_matrix, accuracy_score,plot_confusion_matrix\n",
    "from sklearn.neighbors import KNeighborsClassifier\n",
    "from sklearn.neural_network import MLPClassifier\n",
    "from sklearn.ensemble import RandomForestClassifier\n",
    "import matplotlib.pyplot as plt"
   ]
  },
  {
   "cell_type": "code",
   "execution_count": 2,
   "metadata": {},
   "outputs": [
    {
     "data": {
      "text/html": [
       "<div>\n",
       "<style scoped>\n",
       "    .dataframe tbody tr th:only-of-type {\n",
       "        vertical-align: middle;\n",
       "    }\n",
       "\n",
       "    .dataframe tbody tr th {\n",
       "        vertical-align: top;\n",
       "    }\n",
       "\n",
       "    .dataframe thead th {\n",
       "        text-align: right;\n",
       "    }\n",
       "</style>\n",
       "<table border=\"1\" class=\"dataframe\">\n",
       "  <thead>\n",
       "    <tr style=\"text-align: right;\">\n",
       "      <th></th>\n",
       "      <th>MEAN_RR</th>\n",
       "      <th>MEDIAN_RR</th>\n",
       "      <th>SDRR</th>\n",
       "      <th>RMSSD</th>\n",
       "      <th>SDSD</th>\n",
       "      <th>SDRR_RMSSD</th>\n",
       "      <th>HR</th>\n",
       "      <th>pNN25</th>\n",
       "      <th>pNN50</th>\n",
       "      <th>SD1</th>\n",
       "      <th>...</th>\n",
       "      <th>LF_NU</th>\n",
       "      <th>HF</th>\n",
       "      <th>HF_PCT</th>\n",
       "      <th>HF_NU</th>\n",
       "      <th>TP</th>\n",
       "      <th>LF_HF</th>\n",
       "      <th>HF_LF</th>\n",
       "      <th>sampen</th>\n",
       "      <th>higuci</th>\n",
       "      <th>condition</th>\n",
       "    </tr>\n",
       "  </thead>\n",
       "  <tbody>\n",
       "    <tr>\n",
       "      <th>0</th>\n",
       "      <td>885.157845</td>\n",
       "      <td>853.763730</td>\n",
       "      <td>140.972741</td>\n",
       "      <td>15.554505</td>\n",
       "      <td>15.553371</td>\n",
       "      <td>9.063146</td>\n",
       "      <td>69.499952</td>\n",
       "      <td>11.133333</td>\n",
       "      <td>0.533333</td>\n",
       "      <td>11.001565</td>\n",
       "      <td>...</td>\n",
       "      <td>98.485263</td>\n",
       "      <td>15.522603</td>\n",
       "      <td>0.421047</td>\n",
       "      <td>1.514737</td>\n",
       "      <td>3686.666157</td>\n",
       "      <td>65.018055</td>\n",
       "      <td>0.015380</td>\n",
       "      <td>2.139754</td>\n",
       "      <td>1.163485</td>\n",
       "      <td>no stress</td>\n",
       "    </tr>\n",
       "    <tr>\n",
       "      <th>1</th>\n",
       "      <td>939.425371</td>\n",
       "      <td>948.357865</td>\n",
       "      <td>81.317742</td>\n",
       "      <td>12.964439</td>\n",
       "      <td>12.964195</td>\n",
       "      <td>6.272369</td>\n",
       "      <td>64.363150</td>\n",
       "      <td>5.600000</td>\n",
       "      <td>0.000000</td>\n",
       "      <td>9.170129</td>\n",
       "      <td>...</td>\n",
       "      <td>99.695397</td>\n",
       "      <td>2.108525</td>\n",
       "      <td>0.070133</td>\n",
       "      <td>0.304603</td>\n",
       "      <td>3006.487251</td>\n",
       "      <td>327.296635</td>\n",
       "      <td>0.003055</td>\n",
       "      <td>2.174499</td>\n",
       "      <td>1.084711</td>\n",
       "      <td>interruption</td>\n",
       "    </tr>\n",
       "    <tr>\n",
       "      <th>2</th>\n",
       "      <td>898.186047</td>\n",
       "      <td>907.006860</td>\n",
       "      <td>84.497236</td>\n",
       "      <td>16.305279</td>\n",
       "      <td>16.305274</td>\n",
       "      <td>5.182201</td>\n",
       "      <td>67.450066</td>\n",
       "      <td>13.066667</td>\n",
       "      <td>0.200000</td>\n",
       "      <td>11.533417</td>\n",
       "      <td>...</td>\n",
       "      <td>98.950472</td>\n",
       "      <td>13.769729</td>\n",
       "      <td>0.512671</td>\n",
       "      <td>1.049528</td>\n",
       "      <td>2685.879461</td>\n",
       "      <td>94.280910</td>\n",
       "      <td>0.010607</td>\n",
       "      <td>2.135350</td>\n",
       "      <td>1.176315</td>\n",
       "      <td>interruption</td>\n",
       "    </tr>\n",
       "    <tr>\n",
       "      <th>3</th>\n",
       "      <td>881.757865</td>\n",
       "      <td>893.460030</td>\n",
       "      <td>90.370537</td>\n",
       "      <td>15.720468</td>\n",
       "      <td>15.720068</td>\n",
       "      <td>5.748591</td>\n",
       "      <td>68.809562</td>\n",
       "      <td>11.800000</td>\n",
       "      <td>0.133333</td>\n",
       "      <td>11.119476</td>\n",
       "      <td>...</td>\n",
       "      <td>98.224706</td>\n",
       "      <td>18.181913</td>\n",
       "      <td>0.529387</td>\n",
       "      <td>1.775294</td>\n",
       "      <td>3434.520980</td>\n",
       "      <td>55.328701</td>\n",
       "      <td>0.018074</td>\n",
       "      <td>2.178341</td>\n",
       "      <td>1.179688</td>\n",
       "      <td>no stress</td>\n",
       "    </tr>\n",
       "    <tr>\n",
       "      <th>4</th>\n",
       "      <td>809.625331</td>\n",
       "      <td>811.184865</td>\n",
       "      <td>62.766242</td>\n",
       "      <td>19.213819</td>\n",
       "      <td>19.213657</td>\n",
       "      <td>3.266724</td>\n",
       "      <td>74.565728</td>\n",
       "      <td>20.200000</td>\n",
       "      <td>0.200000</td>\n",
       "      <td>13.590641</td>\n",
       "      <td>...</td>\n",
       "      <td>96.720007</td>\n",
       "      <td>48.215822</td>\n",
       "      <td>1.839473</td>\n",
       "      <td>3.279993</td>\n",
       "      <td>2621.175204</td>\n",
       "      <td>29.487873</td>\n",
       "      <td>0.033912</td>\n",
       "      <td>2.221121</td>\n",
       "      <td>1.249612</td>\n",
       "      <td>no stress</td>\n",
       "    </tr>\n",
       "  </tbody>\n",
       "</table>\n",
       "<p>5 rows × 35 columns</p>\n",
       "</div>"
      ],
      "text/plain": [
       "      MEAN_RR   MEDIAN_RR        SDRR      RMSSD       SDSD  SDRR_RMSSD  \\\n",
       "0  885.157845  853.763730  140.972741  15.554505  15.553371    9.063146   \n",
       "1  939.425371  948.357865   81.317742  12.964439  12.964195    6.272369   \n",
       "2  898.186047  907.006860   84.497236  16.305279  16.305274    5.182201   \n",
       "3  881.757865  893.460030   90.370537  15.720468  15.720068    5.748591   \n",
       "4  809.625331  811.184865   62.766242  19.213819  19.213657    3.266724   \n",
       "\n",
       "          HR      pNN25     pNN50        SD1  ...      LF_NU         HF  \\\n",
       "0  69.499952  11.133333  0.533333  11.001565  ...  98.485263  15.522603   \n",
       "1  64.363150   5.600000  0.000000   9.170129  ...  99.695397   2.108525   \n",
       "2  67.450066  13.066667  0.200000  11.533417  ...  98.950472  13.769729   \n",
       "3  68.809562  11.800000  0.133333  11.119476  ...  98.224706  18.181913   \n",
       "4  74.565728  20.200000  0.200000  13.590641  ...  96.720007  48.215822   \n",
       "\n",
       "     HF_PCT     HF_NU           TP       LF_HF     HF_LF    sampen    higuci  \\\n",
       "0  0.421047  1.514737  3686.666157   65.018055  0.015380  2.139754  1.163485   \n",
       "1  0.070133  0.304603  3006.487251  327.296635  0.003055  2.174499  1.084711   \n",
       "2  0.512671  1.049528  2685.879461   94.280910  0.010607  2.135350  1.176315   \n",
       "3  0.529387  1.775294  3434.520980   55.328701  0.018074  2.178341  1.179688   \n",
       "4  1.839473  3.279993  2621.175204   29.487873  0.033912  2.221121  1.249612   \n",
       "\n",
       "      condition  \n",
       "0     no stress  \n",
       "1  interruption  \n",
       "2  interruption  \n",
       "3     no stress  \n",
       "4     no stress  \n",
       "\n",
       "[5 rows x 35 columns]"
      ]
     },
     "execution_count": 2,
     "metadata": {},
     "output_type": "execute_result"
    }
   ],
   "source": [
    "df = pd.read_csv(r'D:\\SWELL.csv').drop(columns=\"datasetId\")\n",
    "df.head()"
   ]
  },
  {
   "cell_type": "code",
   "execution_count": 3,
   "metadata": {},
   "outputs": [],
   "source": [
    "x=df.drop('condition',axis=1)\n",
    "y=df.condition"
   ]
  },
  {
   "cell_type": "code",
   "execution_count": 4,
   "metadata": {},
   "outputs": [
    {
     "name": "stdout",
     "output_type": "stream",
     "text": [
      "(247423, 34) (121866, 34) (247423,) (121866,)\n"
     ]
    }
   ],
   "source": [
    "X_train, X_test, y_train, y_test = train_test_split(x, y, test_size=0.33, random_state=1)\n",
    "print(X_train.shape, X_test.shape, y_train.shape, y_test.shape)"
   ]
  },
  {
   "cell_type": "code",
   "execution_count": 5,
   "metadata": {},
   "outputs": [],
   "source": [
    "X_train.to_csv('X_train.csv',index=False)\n",
    "y_train.to_csv('y_train.csv',index=False)\n",
    "X_test.to_csv('X_test.csv',index=False)\n",
    "y_test.to_csv('y_test.csv',index=False)"
   ]
  },
  {
   "cell_type": "code",
   "execution_count": 6,
   "metadata": {},
   "outputs": [],
   "source": [
    "knn_best_params = {\n",
    "    'n_neighbors': 35\n",
    "}\n",
    "knn = KNeighborsClassifier(**knn_best_params)"
   ]
  },
  {
   "cell_type": "code",
   "execution_count": 9,
   "metadata": {},
   "outputs": [],
   "source": [
    "ann_best_params = {\n",
    "    'activation': 'relu',\n",
    "    'hidden_layer_sizes': (10, 20),\n",
    "    'max_iter': 2000,\n",
    "    'solver': 'adam'\n",
    "}\n",
    "ann = MLPClassifier(**ann_best_params, random_state=0)\n"
   ]
  },
  {
   "cell_type": "code",
   "execution_count": 13,
   "metadata": {},
   "outputs": [],
   "source": [
    "knn.fit(X_train, y_train)\n",
    "y_predict = knn.predict(X_test)\n",
    "knn_cm = confusion_matrix(y_test, y_predict) \n",
    "knn_cr = classification_report(y_test,y_predict)\n",
    "knn_accuracy =  accuracy_score(y_test, y_predict)\n"
   ]
  },
  {
   "cell_type": "code",
   "execution_count": 14,
   "metadata": {},
   "outputs": [],
   "source": [
    "ann.fit(X_train, y_train)\n",
    "y_predict = ann.predict(X_test)\n",
    "ann_cm = confusion_matrix(y_test, y_predict)\n",
    "ann_cr = classification_report(y_test,y_predict)\n",
    "ann_accuracy = accuracy_score(y_test, y_predict)"
   ]
  },
  {
   "cell_type": "code",
   "execution_count": 25,
   "metadata": {},
   "outputs": [],
   "source": [
    "rf_clf = RandomForestClassifier(n_estimators=200)\n",
    "rf_clf.fit(X_train, y_train)\n",
    "y_predict = rf_clf.predict(X_test)\n",
    "rf_cm = confusion_matrix(y_test, y_predict)\n",
    "rf_cr = classification_report(y_test,y_predict)\n",
    "rf_accuracy = accuracy_score(y_test, y_predict)"
   ]
  },
  {
   "cell_type": "code",
   "execution_count": 28,
   "metadata": {},
   "outputs": [
    {
     "name": "stdout",
     "output_type": "stream",
     "text": [
      "===============================================================================\n",
      "                                   Result                                      \n",
      "===============================================================================\n",
      "\n",
      "KNN:\n",
      "\n",
      "Confusion Matrix:\n",
      "\n",
      "  [[34636     0     0]\n",
      " [    0 66040     0]\n",
      " [    0     0 21190]]\n",
      "\n",
      "Classification Report:\n",
      "\n",
      "                 precision    recall  f1-score   support\n",
      "\n",
      " interruption       0.97      0.96      0.96     34636\n",
      "    no stress       0.97      0.97      0.97     66040\n",
      "time pressure       0.95      0.95      0.95     21190\n",
      "\n",
      "     accuracy                           0.96    121866\n",
      "    macro avg       0.96      0.96      0.96    121866\n",
      " weighted avg       0.96      0.96      0.96    121866\n",
      "\n",
      "Accuracy:\n",
      " 96.3919%\n",
      "-------------------------------------------------------------------------------\n",
      "\n",
      "\n",
      "ANN:\n",
      "\n",
      "Confusion Matrix:\n",
      "\n",
      "  [[20085 13491  1060]\n",
      " [ 1253 63025  1762]\n",
      " [  475  7764 12951]]\n",
      "\n",
      "Classification Report:\n",
      "\n",
      "                 precision    recall  f1-score   support\n",
      "\n",
      " interruption       0.92      0.58      0.71     34636\n",
      "    no stress       0.75      0.95      0.84     66040\n",
      "time pressure       0.82      0.61      0.70     21190\n",
      "\n",
      "     accuracy                           0.79    121866\n",
      "    macro avg       0.83      0.72      0.75    121866\n",
      " weighted avg       0.81      0.79      0.78    121866\n",
      "\n",
      "Accuracy:\n",
      " 78.8251%\n",
      "-------------------------------------------------------------------------------\n",
      "\n",
      "\n",
      "Random Forest:\n",
      "\n",
      "Confusion Matrix:\n",
      "\n",
      "  [[34636     0     0]\n",
      " [    0 66040     0]\n",
      " [    0     0 21190]]\n",
      "\n",
      "Classification Report:\n",
      "\n",
      "                 precision    recall  f1-score   support\n",
      "\n",
      " interruption       1.00      1.00      1.00     34636\n",
      "    no stress       1.00      1.00      1.00     66040\n",
      "time pressure       1.00      1.00      1.00     21190\n",
      "\n",
      "     accuracy                           1.00    121866\n",
      "    macro avg       1.00      1.00      1.00    121866\n",
      " weighted avg       1.00      1.00      1.00    121866\n",
      "\n",
      "Accuracy:\n",
      " 100.0000%\n"
     ]
    }
   ],
   "source": [
    "print('===============================================================================')\n",
    "print('                                   Result                                      ')\n",
    "print('===============================================================================')\n",
    "\n",
    "print('\\nKNN:')\n",
    "print('\\nConfusion Matrix:')\n",
    "print(\"\\n \",knn_cm)\n",
    "print('\\nClassification Report:')\n",
    "print(\"\\n \",knn_cr)\n",
    "print('Accuracy:')\n",
    "print(\" {:.4%}\".format(knn_accuracy))\n",
    "\n",
    "print('-------------------------------------------------------------------------------')\n",
    "print('\\n\\nANN:')\n",
    "print('\\nConfusion Matrix:')\n",
    "print(\"\\n \",ann_cm)\n",
    "print('\\nClassification Report:')\n",
    "print(\"\\n \",ann_cr)\n",
    "print('Accuracy:')\n",
    "print(\" {:.4%}\".format(ann_accuracy))\n",
    "\n",
    "print('-------------------------------------------------------------------------------')\n",
    "print('\\n\\nRandom Forest:')\n",
    "print('\\nConfusion Matrix:')\n",
    "print(\"\\n \",rf_cm)\n",
    "print('\\nClassification Report:')\n",
    "print(\"\\n \",rf_cr)\n",
    "print('Accuracy:')\n",
    "print(\" {:.4%}\".format(rf_accuracy))"
   ]
  },
  {
   "cell_type": "code",
   "execution_count": 35,
   "metadata": {},
   "outputs": [
    {
     "name": "stdout",
     "output_type": "stream",
     "text": [
      "****************************************************************************\n",
      "                           Visualization                                    \n",
      "****************************************************************************\n",
      "\n",
      "KNN COnfusion Matrix HeatMap:\n"
     ]
    },
    {
     "data": {
      "image/png": "[encoded data removed]",
      "text/plain": [
       "<Figure size 432x288 with 2 Axes>"
      ]
     },
     "metadata": {
      "needs_background": "light"
     },
     "output_type": "display_data"
    }
   ],
   "source": [
    "print('****************************************************************************')\n",
    "print('                           Visualization                                    ')\n",
    "print('****************************************************************************')\n",
    "\n",
    "print('\\nKNN COnfusion Matrix HeatMap:')\n",
    "plot_confusion_matrix(knn, X_test, y_test)  \n",
    "plt.show()\n"
   ]
  },
  {
   "cell_type": "code",
   "execution_count": 36,
   "metadata": {},
   "outputs": [
    {
     "name": "stdout",
     "output_type": "stream",
     "text": [
      "\n",
      "ANN COnfusion Matrix HeatMap:\n"
     ]
    },
    {
     "data": {
      "image/png": "[encoded data removed]",
      "text/plain": [
       "<Figure size 432x288 with 2 Axes>"
      ]
     },
     "metadata": {
      "needs_background": "light"
     },
     "output_type": "display_data"
    }
   ],
   "source": [
    "print('\\nANN COnfusion Matrix HeatMap:')\n",
    "plot_confusion_matrix(ann, X_test, y_test)  \n",
    "plt.show()"
   ]
  },
  {
   "cell_type": "code",
   "execution_count": 37,
   "metadata": {},
   "outputs": [
    {
     "name": "stdout",
     "output_type": "stream",
     "text": [
      "\n",
      "Random Forest COnfusion Matrix HeatMap:\n"
     ]
    },
    {
     "data": {
      "image/png": "[encoded data removed]",
      "text/plain": [
       "<Figure size 432x288 with 2 Axes>"
      ]
     },
     "metadata": {
      "needs_background": "light"
     },
     "output_type": "display_data"
    }
   ],
   "source": [
    "print('\\nRandom Forest COnfusion Matrix HeatMap:')\n",
    "plot_confusion_matrix(rf_clf, X_test, y_test)  \n",
    "plt.show()"
   ]
  },
  {
   "cell_type": "code",
   "execution_count": 42,
   "metadata": {},
   "outputs": [
    {
     "data": {
      "image/png": "[encoded data removed]",
      "text/plain": [
       "<Figure size 576x576 with 1 Axes>"
      ]
     },
     "metadata": {
      "needs_background": "light"
     },
     "output_type": "display_data"
    }
   ],
   "source": [
    "import seaborn as sns\n",
    "get_ipython().run_line_magic('matplotlib', 'inline')\n",
    "\n",
    "a=np.arange(3)\n",
    "b=np.arange(2)\n",
    "c=np.arange(1)\n",
    "\n",
    "fig,ax=plt.subplots(figsize=(8,8),edgecolor='k')\n",
    "p1=ax.bar(a,knn_accuracy,color='b')\n",
    "p2=ax.bar(b,ann_accuracy,color='g')\n",
    "p3=ax.bar(c,rf_accuracy,color='y')\n",
    "\n",
    "x = ['Random Forest','ANN','KNN']\n",
    "y = [rf_accuracy*100, ann_accuracy*100, knn_accuracy*100]\n",
    "\n",
    "plt.bar(x, y, color=['yellow', 'green', 'blue'])\n",
    "\n",
    "ax.legend((p1[0],p2[0],p3[0]),('KNN','ANN','Random Forest'))\n",
    "plt.xlabel('X')\n",
    "plt.ylabel('y')\n",
    "plt.show()"
   ]
  }
 ],
 "metadata": {
  "kernelspec": {
   "display_name": "Python 3",
   "language": "python",
   "name": "python3"
  },
  "language_info": {
   "codemirror_mode": {
    "name": "ipython",
    "version": 3
   },
   "file_extension": ".py",
   "mimetype": "text/x-python",
   "name": "python",
   "nbconvert_exporter": "python",
   "pygments_lexer": "ipython3",
   "version": "3.8.10"
  }
 },
 "nbformat": 4,
 "nbformat_minor": 4
}
